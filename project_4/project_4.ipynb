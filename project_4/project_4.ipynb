{
 "cells": [
  {
   "cell_type": "code",
   "execution_count": 1,
   "metadata": {},
   "outputs": [],
   "source": [
    "from Bio import Seq\n",
    "from collections import defaultdict\n",
    "import pandas as pd\n",
    "import numpy as np\n",
    "import pathlib\n",
    "from sklearn.ensemble import RandomForestClassifier\n",
    "\n",
    "FRAME_LENGTH = 1500\n",
    "K_MER = 4"
   ]
  },
  {
   "cell_type": "code",
   "execution_count": 2,
   "metadata": {},
   "outputs": [],
   "source": [
    "def generate_words(chars, length):\n",
    "    if length == 0:\n",
    "        yield ''\n",
    "    else:\n",
    "        for c in chars:\n",
    "            for suffix in generate_words(chars, length - 1):\n",
    "                yield c + suffix\n",
    "                \n",
    "def get_features():\n",
    "    nucleotides = generate_words('ACGT', K_MER)\n",
    "    seen = set()\n",
    "    features = []\n",
    "    nucleotide2feature = dict()\n",
    "    for n in nucleotides:\n",
    "        if n in seen or Seq.reverse_complement(n) in seen:\n",
    "            continue\n",
    "        nucleotide2feature[n] = n \n",
    "        nucleotide2feature[Seq.reverse_complement(n)] = n\n",
    "        seen.add(n)\n",
    "        features.append(n)\n",
    "    return features, nucleotide2feature\n",
    "        \n",
    "features, mapping = get_features()"
   ]
  },
  {
   "cell_type": "code",
   "execution_count": 3,
   "metadata": {},
   "outputs": [],
   "source": [
    "def read_training_data(filename):\n",
    "    data = []\n",
    "    with open(filename, 'r') as f:\n",
    "        lines = f.readlines()\n",
    "        for line in lines:\n",
    "            if line.startswith('>'):\n",
    "                continue\n",
    "            data.append(line.upper().strip())\n",
    "    return data\n",
    "\n",
    "positive_data = read_training_data('./data/vista1500')\n",
    "negative_data = read_training_data('./data/randoms1500')"
   ]
  },
  {
   "cell_type": "code",
   "execution_count": 4,
   "metadata": {},
   "outputs": [],
   "source": [
    "def get_feature_from_frame(frame):\n",
    "    dd = dict()\n",
    "    for feature in features:\n",
    "        dd[feature] = 0\n",
    "    total = len(frame) - K_MER\n",
    "    for i in range(total):\n",
    "        dd[mapping[frame[i:i+K_MER]]] += 1 / total\n",
    "    return dd\n",
    "    \n",
    "def convert_data_to_features(data, label):\n",
    "    data_obj = []\n",
    "    for line in data:\n",
    "        feature_obj = get_feature_from_frame(line)\n",
    "        feature_obj['label'] = label\n",
    "        data_obj.append(feature_obj)\n",
    "    return data_obj\n",
    "\n",
    "training_data = convert_data_to_features(positive_data, 0) + convert_data_to_features(negative_data, 1) "
   ]
  },
  {
   "cell_type": "code",
   "execution_count": 5,
   "metadata": {},
   "outputs": [
    {
     "data": {
      "text/html": "<div>\n<style scoped>\n    .dataframe tbody tr th:only-of-type {\n        vertical-align: middle;\n    }\n\n    .dataframe tbody tr th {\n        vertical-align: top;\n    }\n\n    .dataframe thead th {\n        text-align: right;\n    }\n</style>\n<table border=\"1\" class=\"dataframe\">\n  <thead>\n    <tr style=\"text-align: right;\">\n      <th></th>\n      <th>AAAA</th>\n      <th>AAAC</th>\n      <th>AAAG</th>\n      <th>AAAT</th>\n      <th>AACA</th>\n      <th>AACC</th>\n      <th>AACG</th>\n      <th>AACT</th>\n      <th>AAGA</th>\n      <th>AAGC</th>\n      <th>...</th>\n      <th>TACA</th>\n      <th>TAGA</th>\n      <th>TATA</th>\n      <th>TCAA</th>\n      <th>TCCA</th>\n      <th>TCGA</th>\n      <th>TGAA</th>\n      <th>TGCA</th>\n      <th>TTAA</th>\n      <th>label</th>\n    </tr>\n  </thead>\n  <tbody>\n    <tr>\n      <th>0</th>\n      <td>0.016043</td>\n      <td>0.007353</td>\n      <td>0.014706</td>\n      <td>0.012032</td>\n      <td>0.008021</td>\n      <td>0.007353</td>\n      <td>0.003342</td>\n      <td>0.004679</td>\n      <td>0.014706</td>\n      <td>0.008690</td>\n      <td>...</td>\n      <td>0.006016</td>\n      <td>0.008021</td>\n      <td>0.000668</td>\n      <td>0.008021</td>\n      <td>0.007353</td>\n      <td>0.000668</td>\n      <td>0.009358</td>\n      <td>0.004679</td>\n      <td>0.004679</td>\n      <td>0</td>\n    </tr>\n    <tr>\n      <th>1</th>\n      <td>0.007353</td>\n      <td>0.006016</td>\n      <td>0.006016</td>\n      <td>0.006684</td>\n      <td>0.007353</td>\n      <td>0.009358</td>\n      <td>0.002005</td>\n      <td>0.002005</td>\n      <td>0.008021</td>\n      <td>0.004011</td>\n      <td>...</td>\n      <td>0.006016</td>\n      <td>0.002005</td>\n      <td>0.000000</td>\n      <td>0.001337</td>\n      <td>0.010695</td>\n      <td>0.000000</td>\n      <td>0.004679</td>\n      <td>0.007353</td>\n      <td>0.002674</td>\n      <td>0</td>\n    </tr>\n    <tr>\n      <th>2</th>\n      <td>0.028743</td>\n      <td>0.012701</td>\n      <td>0.017380</td>\n      <td>0.022059</td>\n      <td>0.011364</td>\n      <td>0.007353</td>\n      <td>0.003342</td>\n      <td>0.010027</td>\n      <td>0.014706</td>\n      <td>0.010695</td>\n      <td>...</td>\n      <td>0.014706</td>\n      <td>0.004679</td>\n      <td>0.003342</td>\n      <td>0.008021</td>\n      <td>0.008021</td>\n      <td>0.000668</td>\n      <td>0.014706</td>\n      <td>0.004011</td>\n      <td>0.009358</td>\n      <td>0</td>\n    </tr>\n    <tr>\n      <th>3</th>\n      <td>0.010695</td>\n      <td>0.007353</td>\n      <td>0.014706</td>\n      <td>0.019385</td>\n      <td>0.009358</td>\n      <td>0.007353</td>\n      <td>0.000000</td>\n      <td>0.010695</td>\n      <td>0.012032</td>\n      <td>0.004011</td>\n      <td>...</td>\n      <td>0.008690</td>\n      <td>0.008021</td>\n      <td>0.001337</td>\n      <td>0.010695</td>\n      <td>0.011364</td>\n      <td>0.000668</td>\n      <td>0.012032</td>\n      <td>0.008021</td>\n      <td>0.006684</td>\n      <td>0</td>\n    </tr>\n    <tr>\n      <th>4</th>\n      <td>0.018717</td>\n      <td>0.012032</td>\n      <td>0.022059</td>\n      <td>0.021390</td>\n      <td>0.016043</td>\n      <td>0.006684</td>\n      <td>0.004679</td>\n      <td>0.006684</td>\n      <td>0.016043</td>\n      <td>0.009358</td>\n      <td>...</td>\n      <td>0.009358</td>\n      <td>0.007353</td>\n      <td>0.004679</td>\n      <td>0.012032</td>\n      <td>0.012701</td>\n      <td>0.000668</td>\n      <td>0.010695</td>\n      <td>0.009358</td>\n      <td>0.010027</td>\n      <td>0</td>\n    </tr>\n    <tr>\n      <th>...</th>\n      <td>...</td>\n      <td>...</td>\n      <td>...</td>\n      <td>...</td>\n      <td>...</td>\n      <td>...</td>\n      <td>...</td>\n      <td>...</td>\n      <td>...</td>\n      <td>...</td>\n      <td>...</td>\n      <td>...</td>\n      <td>...</td>\n      <td>...</td>\n      <td>...</td>\n      <td>...</td>\n      <td>...</td>\n      <td>...</td>\n      <td>...</td>\n      <td>...</td>\n      <td>...</td>\n    </tr>\n    <tr>\n      <th>2330</th>\n      <td>0.034759</td>\n      <td>0.015374</td>\n      <td>0.014037</td>\n      <td>0.023396</td>\n      <td>0.009358</td>\n      <td>0.010027</td>\n      <td>0.001337</td>\n      <td>0.012032</td>\n      <td>0.019385</td>\n      <td>0.007353</td>\n      <td>...</td>\n      <td>0.010695</td>\n      <td>0.007353</td>\n      <td>0.008690</td>\n      <td>0.010027</td>\n      <td>0.012032</td>\n      <td>0.000000</td>\n      <td>0.015374</td>\n      <td>0.000668</td>\n      <td>0.007353</td>\n      <td>1</td>\n    </tr>\n    <tr>\n      <th>2331</th>\n      <td>0.052807</td>\n      <td>0.011364</td>\n      <td>0.010027</td>\n      <td>0.030080</td>\n      <td>0.010695</td>\n      <td>0.006684</td>\n      <td>0.000000</td>\n      <td>0.011364</td>\n      <td>0.006684</td>\n      <td>0.004679</td>\n      <td>...</td>\n      <td>0.012032</td>\n      <td>0.010027</td>\n      <td>0.002674</td>\n      <td>0.012701</td>\n      <td>0.003342</td>\n      <td>0.000000</td>\n      <td>0.016711</td>\n      <td>0.004011</td>\n      <td>0.009358</td>\n      <td>1</td>\n    </tr>\n    <tr>\n      <th>2332</th>\n      <td>0.025401</td>\n      <td>0.015374</td>\n      <td>0.009358</td>\n      <td>0.016711</td>\n      <td>0.011364</td>\n      <td>0.008021</td>\n      <td>0.000668</td>\n      <td>0.012032</td>\n      <td>0.008021</td>\n      <td>0.003342</td>\n      <td>...</td>\n      <td>0.026070</td>\n      <td>0.008021</td>\n      <td>0.042112</td>\n      <td>0.008021</td>\n      <td>0.008021</td>\n      <td>0.000000</td>\n      <td>0.012032</td>\n      <td>0.004679</td>\n      <td>0.004679</td>\n      <td>1</td>\n    </tr>\n    <tr>\n      <th>2333</th>\n      <td>0.028075</td>\n      <td>0.014706</td>\n      <td>0.012032</td>\n      <td>0.021390</td>\n      <td>0.016043</td>\n      <td>0.005348</td>\n      <td>0.000668</td>\n      <td>0.011364</td>\n      <td>0.014706</td>\n      <td>0.006016</td>\n      <td>...</td>\n      <td>0.008690</td>\n      <td>0.002005</td>\n      <td>0.004011</td>\n      <td>0.013369</td>\n      <td>0.004679</td>\n      <td>0.000668</td>\n      <td>0.012701</td>\n      <td>0.006016</td>\n      <td>0.008021</td>\n      <td>1</td>\n    </tr>\n    <tr>\n      <th>2334</th>\n      <td>0.030080</td>\n      <td>0.011364</td>\n      <td>0.011364</td>\n      <td>0.022059</td>\n      <td>0.012032</td>\n      <td>0.004011</td>\n      <td>0.002005</td>\n      <td>0.010027</td>\n      <td>0.009358</td>\n      <td>0.009358</td>\n      <td>...</td>\n      <td>0.009358</td>\n      <td>0.009358</td>\n      <td>0.005348</td>\n      <td>0.009358</td>\n      <td>0.008690</td>\n      <td>0.000000</td>\n      <td>0.017380</td>\n      <td>0.002674</td>\n      <td>0.005348</td>\n      <td>1</td>\n    </tr>\n  </tbody>\n</table>\n<p>2335 rows × 137 columns</p>\n</div>",
      "text/plain": "          AAAA      AAAC      AAAG      AAAT      AACA      AACC      AACG  \\\n0     0.016043  0.007353  0.014706  0.012032  0.008021  0.007353  0.003342   \n1     0.007353  0.006016  0.006016  0.006684  0.007353  0.009358  0.002005   \n2     0.028743  0.012701  0.017380  0.022059  0.011364  0.007353  0.003342   \n3     0.010695  0.007353  0.014706  0.019385  0.009358  0.007353  0.000000   \n4     0.018717  0.012032  0.022059  0.021390  0.016043  0.006684  0.004679   \n...        ...       ...       ...       ...       ...       ...       ...   \n2330  0.034759  0.015374  0.014037  0.023396  0.009358  0.010027  0.001337   \n2331  0.052807  0.011364  0.010027  0.030080  0.010695  0.006684  0.000000   \n2332  0.025401  0.015374  0.009358  0.016711  0.011364  0.008021  0.000668   \n2333  0.028075  0.014706  0.012032  0.021390  0.016043  0.005348  0.000668   \n2334  0.030080  0.011364  0.011364  0.022059  0.012032  0.004011  0.002005   \n\n          AACT      AAGA      AAGC  ...      TACA      TAGA      TATA  \\\n0     0.004679  0.014706  0.008690  ...  0.006016  0.008021  0.000668   \n1     0.002005  0.008021  0.004011  ...  0.006016  0.002005  0.000000   \n2     0.010027  0.014706  0.010695  ...  0.014706  0.004679  0.003342   \n3     0.010695  0.012032  0.004011  ...  0.008690  0.008021  0.001337   \n4     0.006684  0.016043  0.009358  ...  0.009358  0.007353  0.004679   \n...        ...       ...       ...  ...       ...       ...       ...   \n2330  0.012032  0.019385  0.007353  ...  0.010695  0.007353  0.008690   \n2331  0.011364  0.006684  0.004679  ...  0.012032  0.010027  0.002674   \n2332  0.012032  0.008021  0.003342  ...  0.026070  0.008021  0.042112   \n2333  0.011364  0.014706  0.006016  ...  0.008690  0.002005  0.004011   \n2334  0.010027  0.009358  0.009358  ...  0.009358  0.009358  0.005348   \n\n          TCAA      TCCA      TCGA      TGAA      TGCA      TTAA  label  \n0     0.008021  0.007353  0.000668  0.009358  0.004679  0.004679      0  \n1     0.001337  0.010695  0.000000  0.004679  0.007353  0.002674      0  \n2     0.008021  0.008021  0.000668  0.014706  0.004011  0.009358      0  \n3     0.010695  0.011364  0.000668  0.012032  0.008021  0.006684      0  \n4     0.012032  0.012701  0.000668  0.010695  0.009358  0.010027      0  \n...        ...       ...       ...       ...       ...       ...    ...  \n2330  0.010027  0.012032  0.000000  0.015374  0.000668  0.007353      1  \n2331  0.012701  0.003342  0.000000  0.016711  0.004011  0.009358      1  \n2332  0.008021  0.008021  0.000000  0.012032  0.004679  0.004679      1  \n2333  0.013369  0.004679  0.000668  0.012701  0.006016  0.008021      1  \n2334  0.009358  0.008690  0.000000  0.017380  0.002674  0.005348      1  \n\n[2335 rows x 137 columns]"
     },
     "execution_count": 5,
     "metadata": {},
     "output_type": "execute_result"
    }
   ],
   "source": [
    "training_df = pd.DataFrame(training_data)\n",
    "training_df"
   ]
  },
  {
   "cell_type": "code",
   "execution_count": 6,
   "metadata": {},
   "outputs": [
    {
     "data": {
      "text/plain": "RandomForestClassifier(bootstrap=True, ccp_alpha=0.0, class_weight=None,\n                       criterion='gini', max_depth=None, max_features='auto',\n                       max_leaf_nodes=None, max_samples=None,\n                       min_impurity_decrease=0.0, min_impurity_split=None,\n                       min_samples_leaf=1, min_samples_split=2,\n                       min_weight_fraction_leaf=0.0, n_estimators=100,\n                       n_jobs=None, oob_score=False, random_state=None,\n                       verbose=0, warm_start=False)"
     },
     "execution_count": 6,
     "metadata": {},
     "output_type": "execute_result"
    }
   ],
   "source": [
    "clf = RandomForestClassifier()\n",
    "clf.fit(training_df.drop(columns=['label']), training_df['label'])"
   ]
  },
  {
   "cell_type": "code",
   "execution_count": 7,
   "metadata": {},
   "outputs": [],
   "source": [
    "def get_chromosome_frames(filename = './data/chr21.fa'):\n",
    "    frame = ''\n",
    "    with open(filename, 'r') as f:\n",
    "        f.readline() # consume '>chr21'\n",
    "        for line in f:\n",
    "            frame += line.upper().strip()\n",
    "            while len(frame) >= FRAME_LENGTH:\n",
    "                yield frame[:FRAME_LENGTH]\n",
    "                frame = frame[FRAME_LENGTH // 2:]\n",
    "    "
   ]
  },
  {
   "cell_type": "code",
   "execution_count": 8,
   "metadata": {},
   "outputs": [],
   "source": [
    "def get_chromosome_features():\n",
    "    for frame in get_chromosome_frames():\n",
    "        if 'N' in frame:\n",
    "            continue\n",
    "        yield get_feature_from_frame(frame)\n",
    "\n"
   ]
  },
  {
   "cell_type": "code",
   "execution_count": 9,
   "metadata": {},
   "outputs": [],
   "source": [
    "computed_features = list(get_chromosome_features())\n",
    "predictions = clf.predict_proba(pd.DataFrame(computed_features))\n",
    "average_score = np.average(predictions,axis=0)"
   ]
  },
  {
   "cell_type": "code",
   "execution_count": 10,
   "metadata": {},
   "outputs": [],
   "source": [
    "def save_results(filename, predictions):\n",
    "    step = FRAME_LENGTH // 2\n",
    "    filepath = pathlib.Path(filename).expanduser()\n",
    "    filepath.parents[0].mkdir(parents=True, exist_ok=True)\n",
    "    i = 0\n",
    "    predictions_index = 0\n",
    "    with open(str(filepath), 'w') as f:\n",
    "        f.write('track type=wiggle_0 name=\"nowikowski\" description=\"enhancers prediction\" visibility=full autoScale=off vieLimits=0.0:1.0 color=50,150,255 yLineMark=11.76 yLineOnOff=on priority=10\\n')\n",
    "        f.write(f'variableStep chrom=chr21 span=1500\\n')\n",
    "        for frame in get_chromosome_frames():\n",
    "            score = average_score[0]\n",
    "            if 'N'not in frame:\n",
    "                score = predictions[predictions_index][0]\n",
    "                predictions_index += 1\n",
    "            f.write(f'{i * step + 1} {score}\\n')\n",
    "            i += 1\n"
   ]
  },
  {
   "cell_type": "code",
   "execution_count": 11,
   "metadata": {},
   "outputs": [],
   "source": [
    "save_results('./output/result.wig', predictions)"
   ]
  }
 ],
 "metadata": {
  "kernelspec": {
   "display_name": "Python 3",
   "language": "python",
   "name": "python3"
  },
  "language_info": {
   "codemirror_mode": {
    "name": "ipython",
    "version": 3
   },
   "file_extension": ".py",
   "mimetype": "text/x-python",
   "name": "python",
   "nbconvert_exporter": "python",
   "pygments_lexer": "ipython3",
   "version": "3.7.5-final"
  }
 },
 "nbformat": 4,
 "nbformat_minor": 4
}