{
 "cells": [
  {
   "cell_type": "markdown",
   "metadata": {},
   "source": [
    "# Task 1\n",
    "> Prepare files with coordinates of CpG islands, Shores, Shelves and Seas in BEDformat. Please use only autosomal chromosomes\n",
    "\n",
    "Definitions:\n",
    "- Shores: CpG islands borders +- 2kb\n",
    "- Shelves: Shores borders +- 2kb\n",
    "- Seas: Between shelves"
   ]
  },
  {
   "cell_type": "code",
   "execution_count": null,
   "metadata": {},
   "outputs": [],
   "source": [
    "autosomal_chromosomes = [f'chr{i}' for i in range(1,23)]\n",
    "shore_size = 2000\n",
    "shelve_size = 2000"
   ]
  },
  {
   "cell_type": "code",
   "execution_count": 20,
   "metadata": {},
   "outputs": [],
   "source": [
    "def get_chromosomes_sizes():\n",
    "    with open('./data/hg19.chrom.sizes') as f:\n",
    "        lines = f.readlines()\n",
    "    return dict((x, int(y)) for (x, y) in (line.split('\\t') for line in lines) if x in autosomal_chromosomes)\n",
    "\n",
    "chromosomes_sizes = get_chromosomes_sizes()"
   ]
  },
  {
   "cell_type": "code",
   "execution_count": 21,
   "metadata": {},
   "outputs": [],
   "source": [
    "from collections import defaultdict\n",
    "def read_cpq_islands():\n",
    "    d = defaultdict(list)\n",
    "    with open('./data/cpgIslandExt.txt') as f:\n",
    "        lines = f.readlines()\n",
    "    for line in lines:\n",
    "        cols = line.split('\\t')\n",
    "        if cols[1] in autosomal_chromosomes:\n",
    "            d[cols[1]].append((int(cols[2]), int(cols[3])))\n",
    "    return d\n",
    "\n",
    "cpq_islands = read_cpq_islands()"
   ]
  },
  {
   "cell_type": "code",
   "execution_count": 22,
   "metadata": {},
   "outputs": [],
   "source": [
    "def merge_ranges(*argv):\n",
    "    ranges = []\n",
    "    for r in argv:\n",
    "        ranges = ranges + r\n",
    "    ranges.sort(key=lambda x: x[0])\n",
    "    merged = []\n",
    "    if len(ranges):\n",
    "        cursor = ranges[0][0]\n",
    "        i = 0\n",
    "        while i < len(ranges):\n",
    "            cursor = ranges[i][0]\n",
    "            end = ranges[i][1]\n",
    "            while i < len(ranges) and ranges[i][0] <= end :\n",
    "                end = max(ranges[i][1], end)\n",
    "                end = ranges[i][1]\n",
    "                i += 1\n",
    "            merged.append((cursor, end))\n",
    "    return merged\n",
    "\n",
    "\n",
    "assert([(3485429, 3489051)] == merge_ranges([(3485429,3487429),(3487429,3489051)]))\n",
    "assert([] == merge_ranges([]))\n",
    "assert([(1,2)] == merge_ranges([(1,2)]))\n",
    "assert([(1,3)] == merge_ranges([(1,2),(2,3)]))\n",
    "assert([(1,3), (4,6)] == merge_ranges([(1,2),(2,3), (4,6)]))\n",
    "assert([(1000, 3200)] == merge_ranges([(1000, 2000), (1500, 3000), (2500, 3200)]))\n",
    "assert([(1000, 3000), (3500, 4200)] == merge_ranges([(1000, 2000), (1500, 3000), (3500, 4200)]))\n"
   ]
  },
  {
   "cell_type": "code",
   "execution_count": 23,
   "metadata": {},
   "outputs": [],
   "source": [
    "def get_borders(ranges, border_size, max_value):\n",
    "    borders = []\n",
    "    i = 0\n",
    "    cursor = 0\n",
    "    while i < len(ranges):\n",
    "        left = max(cursor, ranges[i][0] - border_size)\n",
    "        right = min(max_value, ranges[i][1] + border_size)\n",
    "        if i + 1 < len(ranges) and (ranges[i+1][0] - ranges[i][1]) < 2 * border_size:\n",
    "            right = ranges[i+1][0]\n",
    "        if left < ranges[i][0] - 1:\n",
    "            borders.append((left, ranges[i][0]))\n",
    "        if right > ranges[i][1]:\n",
    "            borders.append((ranges[i][1], right))\n",
    "        cursor = right + 1\n",
    "        i = i + 1\n",
    "    return borders\n",
    "\n",
    "assert([] == get_borders([], 20, max_value=100))\n",
    "assert([(10, 20), (30, 40)] == get_borders([(20, 30)], 10, max_value=100))\n",
    "assert([(0,10), (20,40)] == get_borders([(10,20)], 20, max_value=100))\n",
    "assert([(0,10), (20,30)] == get_borders([(10,20)], 20, max_value=30))\n",
    "assert([(4,10), (20,30), (40, 46), (94,100), (120, 126)] == get_borders([(10,20), (30, 40), (100, 120)], 6, max_value=1000))\n",
    "assert([(799975,801975), (802338, 805198), (805628, 807628)] == get_borders([(801975, 802338), (805198, 805628)], 2000, max_value = 1000000))"
   ]
  },
  {
   "cell_type": "code",
   "execution_count": 24,
   "metadata": {},
   "outputs": [],
   "source": [
    "def fill(ranges, max_value):\n",
    "    result = []\n",
    "    i = 0\n",
    "    start = 0\n",
    "    while i < len(ranges):\n",
    "        if ranges[i][1] - start > 2:\n",
    "            result.append((start, ranges[i][0]))\n",
    "        start = ranges[i][1]\n",
    "        i += 1\n",
    "    if start < max_value:\n",
    "        result.append((start, max_value))\n",
    "    return result\n",
    "\n",
    "assert([(0, 100)]==fill([], max_value=100))\n",
    "assert([(0,10), (20, 100)]==fill([(10,20)], max_value=100))\n",
    "assert([(0,10), (20, 30)] == fill([(10,20), (30, 40)], max_value=40))    "
   ]
  },
  {
   "cell_type": "code",
   "execution_count": 25,
   "metadata": {},
   "outputs": [],
   "source": [
    "def get_shores(chromosome_sizes, cpq_islands, shore_size):\n",
    "    result = {}\n",
    "    for chromosome in chromosome_sizes:\n",
    "        chromosome_size = chromosome_sizes[chromosome]\n",
    "        result[chromosome] = get_borders(cpq_islands[chromosome], shore_size, chromosome_size)\n",
    "    return result\n",
    "                \n",
    "def get_shelves(chromosome_sizes, cpq_islands, shores, shelve_size):\n",
    "    result = {}\n",
    "    for chromosome in chromosome_sizes:\n",
    "        chromosome_size = chromosome_sizes[chromosome]\n",
    "        ranges = merge_ranges(cpq_islands[chromosome], shores[chromosome])\n",
    "        result[chromosome] = get_borders(ranges, shelve_size, chromosome_size)\n",
    "    return result\n",
    "\n",
    "def get_seas(chromosome_sizes, cpq_islands, shores, shelves):\n",
    "    result = {}\n",
    "    for chromosome in chromosome_sizes:\n",
    "        ranges = merge_ranges(cpq_islands[chromosome], shores[chromosome], shelves[chromosome])\n",
    "        result[chromosome] = fill(ranges, chromosome_sizes[chromosome])\n",
    "    return result"
   ]
  },
  {
   "cell_type": "code",
   "execution_count": 26,
   "metadata": {},
   "outputs": [],
   "source": [
    "shores = get_shores(chromosomes_sizes, cpq_islands, shore_size)\n",
    "shelves = get_shelves(chromosomes_sizes, cpq_islands, shores, shelve_size)\n",
    "seas = get_seas(chromosomes_sizes, cpq_islands, shores, shelves)"
   ]
  },
  {
   "cell_type": "code",
   "execution_count": 27,
   "metadata": {},
   "outputs": [],
   "source": [
    "def save_file(mappings, file_name):\n",
    "    with open(f'./output/{file_name}.bed','w',encoding='utf-8') as f:\n",
    "        # for chromosome in autosomal_chromosomes:\n",
    "        for chromosome in mappings:\n",
    "            for start, end in mappings[chromosome]:\n",
    "                f.write(f'{chromosome}\\t{start}\\t{end}\\n')\n",
    "\n",
    "save_file(cpq_islands, 'cpq_islands')\n",
    "save_file(shores, 'shores')\n",
    "save_file(shelves, 'shelves')\n",
    "save_file(seas, 'seas')"
   ]
  },
  {
   "cell_type": "markdown",
   "metadata": {},
   "source": [
    "# Task 2\n",
    "\n",
    "> Set DNA Methylation coordinates as the middle of its range"
   ]
  },
  {
   "cell_type": "code",
   "execution_count": 36,
   "metadata": {},
   "outputs": [],
   "source": [
    "def get_dna_methylation_centers():\n",
    "    result = defaultdict(list)\n",
    "    with open(f'./data/HAIB.A549.EtOH.Rep.3.bed') as f:\n",
    "        for line in f.readlines():\n",
    "            if line:\n",
    "                cols = line.split('\\t')\n",
    "                if cols[0] in autosomal_chromosomes:\n",
    "                    result[cols[0]].append((int(cols[1]) + int(cols[2])) / 2)\n",
    "    return result\n",
    "\n",
    "dna_methylation_centers = get_dna_methylation_centers()"
   ]
  },
  {
   "cell_type": "code",
   "execution_count": null,
   "metadata": {},
   "outputs": [],
   "source": []
  },
  {
   "cell_type": "code",
   "execution_count": 29,
   "metadata": {},
   "outputs": [],
   "source": [
    "def is_in_range(position, ranges):\n",
    "    if not ranges:\n",
    "        return False\n",
    "    low = 0\n",
    "    high = len(ranges) - 1\n",
    "    i = 0\n",
    "    while low <= high:\n",
    "        mid = (low + high) // 2\n",
    "        if ranges[mid][1] < position:\n",
    "            low = mid + 1\n",
    "        elif ranges[mid][0] > position:\n",
    "            high = mid - 1\n",
    "        else:\n",
    "            return ranges[mid][0] <= position and position < ranges[mid][1]\n",
    "    return False\n",
    "        \n",
    "    \n",
    "assert(not is_in_range(42, []))\n",
    "assert(is_in_range(42, [(1, 50)]))\n",
    "assert(is_in_range(1, [(1, 50)]))\n",
    "assert(not is_in_range(50, [(1, 50)]))\n",
    "assert(is_in_range(49, [(1, 50)]))\n",
    "assert(not is_in_range(200, [(1, 50)]))\n",
    "\n",
    "assert(not is_in_range(50, [(1,10), (20, 30), (40, 50), (60, 70), (80,90)]))\n",
    "assert(not is_in_range(55, [(1,10), (20, 30), (40, 50), (60, 70), (80,90)]))\n",
    "assert(is_in_range(45, [(1,10), (20, 30), (40, 50), (60, 70), (80,90)]))"
   ]
  },
  {
   "cell_type": "code",
   "execution_count": 30,
   "metadata": {},
   "outputs": [],
   "source": [
    "from collections import Counter\n",
    "def get_hits(dna_methylation_centers, cpq_islands, shores, shelves, seas):\n",
    "    counter = Counter()\n",
    "    for chromosome in dna_methylation_centers:\n",
    "        for position in dna_methylation_centers[chromosome]:\n",
    "            if is_in_range(position, cpq_islands[chromosome]):\n",
    "                counter['cpq_island'] += 1\n",
    "            elif is_in_range(position, shores[chromosome]):\n",
    "                counter['shore'] += 1\n",
    "            elif is_in_range(position, shelves[chromosome]):\n",
    "                counter['shelve'] += 1\n",
    "            elif is_in_range(position, seas[chromosome]):\n",
    "                counter['sea'] += 1\n",
    "            else:\n",
    "                counter['unknown'] += 1\n",
    "    return counter\n",
    "\n",
    "hits = get_hits(dna_methylation_centers, cpq_islands, shores, shelves, seas)\n",
    "    "
   ]
  },
  {
   "cell_type": "code",
   "execution_count": 33,
   "metadata": {},
   "outputs": [
    {
     "data": {
      "text/html": [
       "<div>\n",
       "<style scoped>\n",
       "    .dataframe tbody tr th:only-of-type {\n",
       "        vertical-align: middle;\n",
       "    }\n",
       "\n",
       "    .dataframe tbody tr th {\n",
       "        vertical-align: top;\n",
       "    }\n",
       "\n",
       "    .dataframe thead th {\n",
       "        text-align: right;\n",
       "    }\n",
       "</style>\n",
       "<table border=\"1\" class=\"dataframe\">\n",
       "  <thead>\n",
       "    <tr style=\"text-align: right;\">\n",
       "      <th></th>\n",
       "      <th>name</th>\n",
       "      <th>hits</th>\n",
       "      <th>frequency</th>\n",
       "    </tr>\n",
       "  </thead>\n",
       "  <tbody>\n",
       "    <tr>\n",
       "      <th>0</th>\n",
       "      <td>shore</td>\n",
       "      <td>218145</td>\n",
       "      <td>0.463281</td>\n",
       "    </tr>\n",
       "    <tr>\n",
       "      <th>1</th>\n",
       "      <td>cpq_island</td>\n",
       "      <td>132094</td>\n",
       "      <td>0.280532</td>\n",
       "    </tr>\n",
       "    <tr>\n",
       "      <th>2</th>\n",
       "      <td>sea</td>\n",
       "      <td>89262</td>\n",
       "      <td>0.189568</td>\n",
       "    </tr>\n",
       "    <tr>\n",
       "      <th>3</th>\n",
       "      <td>shelve</td>\n",
       "      <td>31369</td>\n",
       "      <td>0.066619</td>\n",
       "    </tr>\n",
       "  </tbody>\n",
       "</table>\n",
       "</div>"
      ],
      "text/plain": [
       "         name    hits  frequency\n",
       "0       shore  218145   0.463281\n",
       "1  cpq_island  132094   0.280532\n",
       "2         sea   89262   0.189568\n",
       "3      shelve   31369   0.066619"
      ]
     },
     "execution_count": 33,
     "metadata": {},
     "output_type": "execute_result"
    }
   ],
   "source": [
    "import pandas as pd\n",
    "import numpy as np\n",
    "\n",
    "df = pd.DataFrame({\n",
    "    'name': list(hits.keys()),\n",
    "    'hits': list(hits.values())\n",
    "})\n",
    "\n",
    "all_hits_count = df['hits'].sum()\n",
    "df['frequency'] = [value / all_hits_count for value in df['hits'].values]\n",
    "df\n"
   ]
  },
  {
   "cell_type": "code",
   "execution_count": 32,
   "metadata": {},
   "outputs": [
    {
     "data": {
      "image/png": "[encoded data removed]",
      "text/plain": [
       "<Figure size 640x480 with 1 Axes>"
      ]
     },
     "metadata": {},
     "output_type": "display_data"
    }
   ],
   "source": [
    "%matplotlib inline\n",
    "import matplotlib.pyplot as plt\n",
    "import numpy as np\n",
    "\n",
    "plt.rcdefaults()\n",
    "fig, ax = plt.subplots()\n",
    "\n",
    "data = [item for item in hits.items()]\n",
    "data.sort(key=lambda x: x[1], reverse=True)\n",
    "\n",
    "labels = [item[0] for item in data]\n",
    "y_pos = np.arange(len(labels))\n",
    "all_hits = sum([item[1] for item in data])\n",
    "x_pos = [item[1]/all_hits for item in data]\n",
    "ax.barh(y_pos, x_pos, align='center')\n",
    "ax.set_yticks(y_pos)\n",
    "plt.xlim(0, 1)\n",
    "ax.set_yticklabels(labels)\n",
    "ax.invert_yaxis()\n",
    "ax.set_xlabel('Hits')\n",
    "ax.set_title('Number of hits for DNA methylation centers')\n",
    "plt.show()\n",
    "\n"
   ]
  }
 ],
 "metadata": {
  "kernelspec": {
   "display_name": "Python 3",
   "language": "python",
   "name": "python3"
  },
  "language_info": {
   "codemirror_mode": {
    "name": "ipython",
    "version": 3
   },
   "file_extension": ".py",
   "mimetype": "text/x-python",
   "name": "python",
   "nbconvert_exporter": "python",
   "pygments_lexer": "ipython3",
   "version": "3.7.5"
  }
 },
 "nbformat": 4,
 "nbformat_minor": 4
}
